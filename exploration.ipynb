{
 "cells": [
  {
   "cell_type": "markdown",
   "id": "a21bc16c",
   "metadata": {},
   "source": [
    "# The Ford GoBike System Data\n",
    "## John Magdy\n",
    "\n",
    "## Preliminary Wrangling\n",
    "\n",
    ">\n",
    "The Ford GoBike Dataset being used is the 2018 data seperated for each month of the year it inclued information about individual rides made in a bike-sharing system covering the greater San Francisco Bay area. by grouping each dataset to get the entirety of 2018 data and do the required exploratory and explanatory analysis on it."
   ]
  },
  {
   "cell_type": "code",
   "execution_count": 3,
   "id": "d5e188e7",
   "metadata": {},
   "outputs": [],
   "source": [
    "#libraries\n",
    "import numpy as np\n",
    "import pandas as pd\n",
    "import matplotlib as plt\n",
    "import matplotlib.pyplot as plt\n",
    "import seaborn as sns\n",
    "\n",
    "%matplotlib inline"
   ]
  },
  {
   "cell_type": "code",
   "execution_count": 38,
   "id": "7a5946a1",
   "metadata": {},
   "outputs": [],
   "source": [
    "import warnings\n",
    "warnings.simplefilter(\"ignore\")"
   ]
  },
  {
   "cell_type": "markdown",
   "id": "91180129",
   "metadata": {},
   "source": [
    "> Load in your dataset and describe its properties through the questions below.\n",
    "Try and motivate your exploration goals through this section."
   ]
  },
  {
   "cell_type": "code",
   "execution_count": 4,
   "id": "5f0e9277",
   "metadata": {},
   "outputs": [
    {
     "data": {
      "text/html": [
       "<div>\n",
       "<style scoped>\n",
       "    .dataframe tbody tr th:only-of-type {\n",
       "        vertical-align: middle;\n",
       "    }\n",
       "\n",
       "    .dataframe tbody tr th {\n",
       "        vertical-align: top;\n",
       "    }\n",
       "\n",
       "    .dataframe thead th {\n",
       "        text-align: right;\n",
       "    }\n",
       "</style>\n",
       "<table border=\"1\" class=\"dataframe\">\n",
       "  <thead>\n",
       "    <tr style=\"text-align: right;\">\n",
       "      <th></th>\n",
       "      <th>duration_sec</th>\n",
       "      <th>start_time</th>\n",
       "      <th>end_time</th>\n",
       "      <th>start_station_id</th>\n",
       "      <th>start_station_name</th>\n",
       "      <th>start_station_latitude</th>\n",
       "      <th>start_station_longitude</th>\n",
       "      <th>end_station_id</th>\n",
       "      <th>end_station_name</th>\n",
       "      <th>end_station_latitude</th>\n",
       "      <th>end_station_longitude</th>\n",
       "      <th>bike_id</th>\n",
       "      <th>user_type</th>\n",
       "      <th>member_birth_year</th>\n",
       "      <th>member_gender</th>\n",
       "      <th>bike_share_for_all_trip</th>\n",
       "    </tr>\n",
       "  </thead>\n",
       "  <tbody>\n",
       "    <tr>\n",
       "      <th>0</th>\n",
       "      <td>75284</td>\n",
       "      <td>2018-01-31 22:52:35.2390</td>\n",
       "      <td>2018-02-01 19:47:19.8240</td>\n",
       "      <td>120</td>\n",
       "      <td>Mission Dolores Park</td>\n",
       "      <td>37.761420</td>\n",
       "      <td>-122.426435</td>\n",
       "      <td>285</td>\n",
       "      <td>Webster St at O'Farrell St</td>\n",
       "      <td>37.783521</td>\n",
       "      <td>-122.431158</td>\n",
       "      <td>2765</td>\n",
       "      <td>Subscriber</td>\n",
       "      <td>1986.0</td>\n",
       "      <td>Male</td>\n",
       "      <td>No</td>\n",
       "    </tr>\n",
       "    <tr>\n",
       "      <th>1</th>\n",
       "      <td>85422</td>\n",
       "      <td>2018-01-31 16:13:34.3510</td>\n",
       "      <td>2018-02-01 15:57:17.3100</td>\n",
       "      <td>15</td>\n",
       "      <td>San Francisco Ferry Building (Harry Bridges Pl...</td>\n",
       "      <td>37.795392</td>\n",
       "      <td>-122.394203</td>\n",
       "      <td>15</td>\n",
       "      <td>San Francisco Ferry Building (Harry Bridges Pl...</td>\n",
       "      <td>37.795392</td>\n",
       "      <td>-122.394203</td>\n",
       "      <td>2815</td>\n",
       "      <td>Customer</td>\n",
       "      <td>NaN</td>\n",
       "      <td>NaN</td>\n",
       "      <td>No</td>\n",
       "    </tr>\n",
       "    <tr>\n",
       "      <th>2</th>\n",
       "      <td>71576</td>\n",
       "      <td>2018-01-31 14:23:55.8890</td>\n",
       "      <td>2018-02-01 10:16:52.1160</td>\n",
       "      <td>304</td>\n",
       "      <td>Jackson St at 5th St</td>\n",
       "      <td>37.348759</td>\n",
       "      <td>-121.894798</td>\n",
       "      <td>296</td>\n",
       "      <td>5th St at Virginia St</td>\n",
       "      <td>37.325998</td>\n",
       "      <td>-121.877120</td>\n",
       "      <td>3039</td>\n",
       "      <td>Customer</td>\n",
       "      <td>1996.0</td>\n",
       "      <td>Male</td>\n",
       "      <td>No</td>\n",
       "    </tr>\n",
       "    <tr>\n",
       "      <th>3</th>\n",
       "      <td>61076</td>\n",
       "      <td>2018-01-31 14:53:23.5620</td>\n",
       "      <td>2018-02-01 07:51:20.5000</td>\n",
       "      <td>75</td>\n",
       "      <td>Market St at Franklin St</td>\n",
       "      <td>37.773793</td>\n",
       "      <td>-122.421239</td>\n",
       "      <td>47</td>\n",
       "      <td>4th St at Harrison St</td>\n",
       "      <td>37.780955</td>\n",
       "      <td>-122.399749</td>\n",
       "      <td>321</td>\n",
       "      <td>Customer</td>\n",
       "      <td>NaN</td>\n",
       "      <td>NaN</td>\n",
       "      <td>No</td>\n",
       "    </tr>\n",
       "    <tr>\n",
       "      <th>4</th>\n",
       "      <td>39966</td>\n",
       "      <td>2018-01-31 19:52:24.6670</td>\n",
       "      <td>2018-02-01 06:58:31.0530</td>\n",
       "      <td>74</td>\n",
       "      <td>Laguna St at Hayes St</td>\n",
       "      <td>37.776435</td>\n",
       "      <td>-122.426244</td>\n",
       "      <td>19</td>\n",
       "      <td>Post St at Kearny St</td>\n",
       "      <td>37.788975</td>\n",
       "      <td>-122.403452</td>\n",
       "      <td>617</td>\n",
       "      <td>Subscriber</td>\n",
       "      <td>1991.0</td>\n",
       "      <td>Male</td>\n",
       "      <td>No</td>\n",
       "    </tr>\n",
       "  </tbody>\n",
       "</table>\n",
       "</div>"
      ],
      "text/plain": [
       "   duration_sec                start_time                  end_time  \\\n",
       "0         75284  2018-01-31 22:52:35.2390  2018-02-01 19:47:19.8240   \n",
       "1         85422  2018-01-31 16:13:34.3510  2018-02-01 15:57:17.3100   \n",
       "2         71576  2018-01-31 14:23:55.8890  2018-02-01 10:16:52.1160   \n",
       "3         61076  2018-01-31 14:53:23.5620  2018-02-01 07:51:20.5000   \n",
       "4         39966  2018-01-31 19:52:24.6670  2018-02-01 06:58:31.0530   \n",
       "\n",
       "   start_station_id                                 start_station_name  \\\n",
       "0               120                               Mission Dolores Park   \n",
       "1                15  San Francisco Ferry Building (Harry Bridges Pl...   \n",
       "2               304                               Jackson St at 5th St   \n",
       "3                75                           Market St at Franklin St   \n",
       "4                74                              Laguna St at Hayes St   \n",
       "\n",
       "   start_station_latitude  start_station_longitude  end_station_id  \\\n",
       "0               37.761420              -122.426435             285   \n",
       "1               37.795392              -122.394203              15   \n",
       "2               37.348759              -121.894798             296   \n",
       "3               37.773793              -122.421239              47   \n",
       "4               37.776435              -122.426244              19   \n",
       "\n",
       "                                    end_station_name  end_station_latitude  \\\n",
       "0                         Webster St at O'Farrell St             37.783521   \n",
       "1  San Francisco Ferry Building (Harry Bridges Pl...             37.795392   \n",
       "2                              5th St at Virginia St             37.325998   \n",
       "3                              4th St at Harrison St             37.780955   \n",
       "4                               Post St at Kearny St             37.788975   \n",
       "\n",
       "   end_station_longitude  bike_id   user_type  member_birth_year  \\\n",
       "0            -122.431158     2765  Subscriber             1986.0   \n",
       "1            -122.394203     2815    Customer                NaN   \n",
       "2            -121.877120     3039    Customer             1996.0   \n",
       "3            -122.399749      321    Customer                NaN   \n",
       "4            -122.403452      617  Subscriber             1991.0   \n",
       "\n",
       "  member_gender bike_share_for_all_trip  \n",
       "0          Male                      No  \n",
       "1           NaN                      No  \n",
       "2          Male                      No  \n",
       "3           NaN                      No  \n",
       "4          Male                      No  "
      ]
     },
     "execution_count": 4,
     "metadata": {},
     "output_type": "execute_result"
    }
   ],
   "source": [
    "#reading the dataset for the first month of january 2018 from the data source\n",
    "test = pd.read_csv('https://s3.amazonaws.com/fordgobike-data/201801-fordgobike-tripdata.csv.zip')\n",
    "test.head()"
   ]
  },
  {
   "cell_type": "markdown",
   "id": "514d1cd5",
   "metadata": {},
   "source": [
    "In here we find a sample of the datasets that contains the month of january"
   ]
  },
  {
   "cell_type": "code",
   "execution_count": 5,
   "id": "2ef6bb46",
   "metadata": {},
   "outputs": [
    {
     "name": "stdout",
     "output_type": "stream",
     "text": [
      "https://s3.amazonaws.com/fordgobike-data/201801-fordgobike-tripdata.csv.zip\n",
      "https://s3.amazonaws.com/fordgobike-data/201802-fordgobike-tripdata.csv.zip\n",
      "https://s3.amazonaws.com/fordgobike-data/201803-fordgobike-tripdata.csv.zip\n",
      "https://s3.amazonaws.com/fordgobike-data/201804-fordgobike-tripdata.csv.zip\n",
      "https://s3.amazonaws.com/fordgobike-data/201805-fordgobike-tripdata.csv.zip\n",
      "https://s3.amazonaws.com/fordgobike-data/201806-fordgobike-tripdata.csv.zip\n",
      "https://s3.amazonaws.com/fordgobike-data/201807-fordgobike-tripdata.csv.zip\n",
      "https://s3.amazonaws.com/fordgobike-data/201808-fordgobike-tripdata.csv.zip\n",
      "https://s3.amazonaws.com/fordgobike-data/201809-fordgobike-tripdata.csv.zip\n",
      "https://s3.amazonaws.com/fordgobike-data/201810-fordgobike-tripdata.csv.zip\n",
      "https://s3.amazonaws.com/fordgobike-data/201811-fordgobike-tripdata.csv.zip\n",
      "https://s3.amazonaws.com/fordgobike-data/201812-fordgobike-tripdata.csv.zip\n"
     ]
    }
   ],
   "source": [
    "#reading all the months and assigning them to variables\n",
    "for months in range (1,13):\n",
    "    url = 'https://s3.amazonaws.com/fordgobike-data/2018'+ str(months).zfill(2) +'-fordgobike-tripdata.csv.zip'\n",
    "    print(url)\n",
    "    globals()[\"df\" + str(months)] = pd.read_csv(url)"
   ]
  },
  {
   "cell_type": "markdown",
   "id": "05b97f48",
   "metadata": {
    "tags": []
   },
   "source": [
    "creating a for loop to read all the datasets automatically and storing the variables in a list"
   ]
  },
  {
   "cell_type": "code",
   "execution_count": 6,
   "id": "15af3928",
   "metadata": {},
   "outputs": [
    {
     "name": "stdout",
     "output_type": "stream",
     "text": [
      "(94802, 16)\n",
      "(106718, 16)\n",
      "(111382, 16)\n",
      "(131169, 16)\n"
     ]
    }
   ],
   "source": [
    "#structure of the datasets\n",
    "print(df1.shape)\n",
    "print(df2.shape)\n",
    "print(df3.shape)\n",
    "print(df4.shape)"
   ]
  },
  {
   "cell_type": "markdown",
   "id": "7ba616f2",
   "metadata": {},
   "source": [
    "datasets should have the same columns so merging and adding them together in one big dataset is the next step"
   ]
  },
  {
   "cell_type": "code",
   "execution_count": 7,
   "id": "f6003722",
   "metadata": {},
   "outputs": [],
   "source": [
    "#merging all data\n",
    "df_all= pd.concat([df1,df2,df3,df4,df5,df6,df7,df8,df9,df10,df11,df12])"
   ]
  },
  {
   "cell_type": "code",
   "execution_count": 8,
   "id": "7767dd9f",
   "metadata": {},
   "outputs": [
    {
     "data": {
      "text/html": [
       "<div>\n",
       "<style scoped>\n",
       "    .dataframe tbody tr th:only-of-type {\n",
       "        vertical-align: middle;\n",
       "    }\n",
       "\n",
       "    .dataframe tbody tr th {\n",
       "        vertical-align: top;\n",
       "    }\n",
       "\n",
       "    .dataframe thead th {\n",
       "        text-align: right;\n",
       "    }\n",
       "</style>\n",
       "<table border=\"1\" class=\"dataframe\">\n",
       "  <thead>\n",
       "    <tr style=\"text-align: right;\">\n",
       "      <th></th>\n",
       "      <th>duration_sec</th>\n",
       "      <th>start_time</th>\n",
       "      <th>end_time</th>\n",
       "      <th>start_station_id</th>\n",
       "      <th>start_station_name</th>\n",
       "      <th>start_station_latitude</th>\n",
       "      <th>start_station_longitude</th>\n",
       "      <th>end_station_id</th>\n",
       "      <th>end_station_name</th>\n",
       "      <th>end_station_latitude</th>\n",
       "      <th>end_station_longitude</th>\n",
       "      <th>bike_id</th>\n",
       "      <th>user_type</th>\n",
       "      <th>member_birth_year</th>\n",
       "      <th>member_gender</th>\n",
       "      <th>bike_share_for_all_trip</th>\n",
       "    </tr>\n",
       "  </thead>\n",
       "  <tbody>\n",
       "    <tr>\n",
       "      <th>0</th>\n",
       "      <td>75284</td>\n",
       "      <td>2018-01-31 22:52:35.2390</td>\n",
       "      <td>2018-02-01 19:47:19.8240</td>\n",
       "      <td>120.0</td>\n",
       "      <td>Mission Dolores Park</td>\n",
       "      <td>37.761420</td>\n",
       "      <td>-122.426435</td>\n",
       "      <td>285.0</td>\n",
       "      <td>Webster St at O'Farrell St</td>\n",
       "      <td>37.783521</td>\n",
       "      <td>-122.431158</td>\n",
       "      <td>2765</td>\n",
       "      <td>Subscriber</td>\n",
       "      <td>1986.0</td>\n",
       "      <td>Male</td>\n",
       "      <td>No</td>\n",
       "    </tr>\n",
       "    <tr>\n",
       "      <th>1</th>\n",
       "      <td>85422</td>\n",
       "      <td>2018-01-31 16:13:34.3510</td>\n",
       "      <td>2018-02-01 15:57:17.3100</td>\n",
       "      <td>15.0</td>\n",
       "      <td>San Francisco Ferry Building (Harry Bridges Pl...</td>\n",
       "      <td>37.795392</td>\n",
       "      <td>-122.394203</td>\n",
       "      <td>15.0</td>\n",
       "      <td>San Francisco Ferry Building (Harry Bridges Pl...</td>\n",
       "      <td>37.795392</td>\n",
       "      <td>-122.394203</td>\n",
       "      <td>2815</td>\n",
       "      <td>Customer</td>\n",
       "      <td>NaN</td>\n",
       "      <td>NaN</td>\n",
       "      <td>No</td>\n",
       "    </tr>\n",
       "    <tr>\n",
       "      <th>2</th>\n",
       "      <td>71576</td>\n",
       "      <td>2018-01-31 14:23:55.8890</td>\n",
       "      <td>2018-02-01 10:16:52.1160</td>\n",
       "      <td>304.0</td>\n",
       "      <td>Jackson St at 5th St</td>\n",
       "      <td>37.348759</td>\n",
       "      <td>-121.894798</td>\n",
       "      <td>296.0</td>\n",
       "      <td>5th St at Virginia St</td>\n",
       "      <td>37.325998</td>\n",
       "      <td>-121.877120</td>\n",
       "      <td>3039</td>\n",
       "      <td>Customer</td>\n",
       "      <td>1996.0</td>\n",
       "      <td>Male</td>\n",
       "      <td>No</td>\n",
       "    </tr>\n",
       "    <tr>\n",
       "      <th>3</th>\n",
       "      <td>61076</td>\n",
       "      <td>2018-01-31 14:53:23.5620</td>\n",
       "      <td>2018-02-01 07:51:20.5000</td>\n",
       "      <td>75.0</td>\n",
       "      <td>Market St at Franklin St</td>\n",
       "      <td>37.773793</td>\n",
       "      <td>-122.421239</td>\n",
       "      <td>47.0</td>\n",
       "      <td>4th St at Harrison St</td>\n",
       "      <td>37.780955</td>\n",
       "      <td>-122.399749</td>\n",
       "      <td>321</td>\n",
       "      <td>Customer</td>\n",
       "      <td>NaN</td>\n",
       "      <td>NaN</td>\n",
       "      <td>No</td>\n",
       "    </tr>\n",
       "    <tr>\n",
       "      <th>4</th>\n",
       "      <td>39966</td>\n",
       "      <td>2018-01-31 19:52:24.6670</td>\n",
       "      <td>2018-02-01 06:58:31.0530</td>\n",
       "      <td>74.0</td>\n",
       "      <td>Laguna St at Hayes St</td>\n",
       "      <td>37.776435</td>\n",
       "      <td>-122.426244</td>\n",
       "      <td>19.0</td>\n",
       "      <td>Post St at Kearny St</td>\n",
       "      <td>37.788975</td>\n",
       "      <td>-122.403452</td>\n",
       "      <td>617</td>\n",
       "      <td>Subscriber</td>\n",
       "      <td>1991.0</td>\n",
       "      <td>Male</td>\n",
       "      <td>No</td>\n",
       "    </tr>\n",
       "    <tr>\n",
       "      <th>...</th>\n",
       "      <td>...</td>\n",
       "      <td>...</td>\n",
       "      <td>...</td>\n",
       "      <td>...</td>\n",
       "      <td>...</td>\n",
       "      <td>...</td>\n",
       "      <td>...</td>\n",
       "      <td>...</td>\n",
       "      <td>...</td>\n",
       "      <td>...</td>\n",
       "      <td>...</td>\n",
       "      <td>...</td>\n",
       "      <td>...</td>\n",
       "      <td>...</td>\n",
       "      <td>...</td>\n",
       "      <td>...</td>\n",
       "    </tr>\n",
       "    <tr>\n",
       "      <th>131358</th>\n",
       "      <td>473</td>\n",
       "      <td>2018-12-01 00:11:54.8110</td>\n",
       "      <td>2018-12-01 00:19:48.5470</td>\n",
       "      <td>345.0</td>\n",
       "      <td>Hubbell St at 16th St</td>\n",
       "      <td>37.766474</td>\n",
       "      <td>-122.398295</td>\n",
       "      <td>81.0</td>\n",
       "      <td>Berry St at 4th St</td>\n",
       "      <td>37.775880</td>\n",
       "      <td>-122.393170</td>\n",
       "      <td>3035</td>\n",
       "      <td>Subscriber</td>\n",
       "      <td>1982.0</td>\n",
       "      <td>Female</td>\n",
       "      <td>No</td>\n",
       "    </tr>\n",
       "    <tr>\n",
       "      <th>131359</th>\n",
       "      <td>841</td>\n",
       "      <td>2018-12-01 00:02:48.7260</td>\n",
       "      <td>2018-12-01 00:16:49.7660</td>\n",
       "      <td>10.0</td>\n",
       "      <td>Washington St at Kearny St</td>\n",
       "      <td>37.795393</td>\n",
       "      <td>-122.404770</td>\n",
       "      <td>58.0</td>\n",
       "      <td>Market St at 10th St</td>\n",
       "      <td>37.776619</td>\n",
       "      <td>-122.417385</td>\n",
       "      <td>2034</td>\n",
       "      <td>Subscriber</td>\n",
       "      <td>1999.0</td>\n",
       "      <td>Female</td>\n",
       "      <td>No</td>\n",
       "    </tr>\n",
       "    <tr>\n",
       "      <th>131360</th>\n",
       "      <td>260</td>\n",
       "      <td>2018-12-01 00:05:27.6150</td>\n",
       "      <td>2018-12-01 00:09:47.9560</td>\n",
       "      <td>245.0</td>\n",
       "      <td>Downtown Berkeley BART</td>\n",
       "      <td>37.870139</td>\n",
       "      <td>-122.268422</td>\n",
       "      <td>255.0</td>\n",
       "      <td>Virginia St at Shattuck Ave</td>\n",
       "      <td>37.876573</td>\n",
       "      <td>-122.269528</td>\n",
       "      <td>2243</td>\n",
       "      <td>Subscriber</td>\n",
       "      <td>1991.0</td>\n",
       "      <td>Male</td>\n",
       "      <td>No</td>\n",
       "    </tr>\n",
       "    <tr>\n",
       "      <th>131361</th>\n",
       "      <td>292</td>\n",
       "      <td>2018-12-01 00:03:06.5490</td>\n",
       "      <td>2018-12-01 00:07:59.0800</td>\n",
       "      <td>93.0</td>\n",
       "      <td>4th St at Mission Bay Blvd S</td>\n",
       "      <td>37.770407</td>\n",
       "      <td>-122.391198</td>\n",
       "      <td>126.0</td>\n",
       "      <td>Esprit Park</td>\n",
       "      <td>37.761634</td>\n",
       "      <td>-122.390648</td>\n",
       "      <td>545</td>\n",
       "      <td>Subscriber</td>\n",
       "      <td>1963.0</td>\n",
       "      <td>Male</td>\n",
       "      <td>No</td>\n",
       "    </tr>\n",
       "    <tr>\n",
       "      <th>131362</th>\n",
       "      <td>150</td>\n",
       "      <td>2018-12-01 00:03:05.7420</td>\n",
       "      <td>2018-12-01 00:05:36.0260</td>\n",
       "      <td>107.0</td>\n",
       "      <td>17th St at Dolores St</td>\n",
       "      <td>37.763015</td>\n",
       "      <td>-122.426497</td>\n",
       "      <td>119.0</td>\n",
       "      <td>18th St at Noe St</td>\n",
       "      <td>37.761047</td>\n",
       "      <td>-122.432642</td>\n",
       "      <td>4319</td>\n",
       "      <td>Subscriber</td>\n",
       "      <td>NaN</td>\n",
       "      <td>NaN</td>\n",
       "      <td>No</td>\n",
       "    </tr>\n",
       "  </tbody>\n",
       "</table>\n",
       "<p>1863721 rows × 16 columns</p>\n",
       "</div>"
      ],
      "text/plain": [
       "        duration_sec                start_time                  end_time  \\\n",
       "0              75284  2018-01-31 22:52:35.2390  2018-02-01 19:47:19.8240   \n",
       "1              85422  2018-01-31 16:13:34.3510  2018-02-01 15:57:17.3100   \n",
       "2              71576  2018-01-31 14:23:55.8890  2018-02-01 10:16:52.1160   \n",
       "3              61076  2018-01-31 14:53:23.5620  2018-02-01 07:51:20.5000   \n",
       "4              39966  2018-01-31 19:52:24.6670  2018-02-01 06:58:31.0530   \n",
       "...              ...                       ...                       ...   \n",
       "131358           473  2018-12-01 00:11:54.8110  2018-12-01 00:19:48.5470   \n",
       "131359           841  2018-12-01 00:02:48.7260  2018-12-01 00:16:49.7660   \n",
       "131360           260  2018-12-01 00:05:27.6150  2018-12-01 00:09:47.9560   \n",
       "131361           292  2018-12-01 00:03:06.5490  2018-12-01 00:07:59.0800   \n",
       "131362           150  2018-12-01 00:03:05.7420  2018-12-01 00:05:36.0260   \n",
       "\n",
       "        start_station_id                                 start_station_name  \\\n",
       "0                  120.0                               Mission Dolores Park   \n",
       "1                   15.0  San Francisco Ferry Building (Harry Bridges Pl...   \n",
       "2                  304.0                               Jackson St at 5th St   \n",
       "3                   75.0                           Market St at Franklin St   \n",
       "4                   74.0                              Laguna St at Hayes St   \n",
       "...                  ...                                                ...   \n",
       "131358             345.0                              Hubbell St at 16th St   \n",
       "131359              10.0                         Washington St at Kearny St   \n",
       "131360             245.0                             Downtown Berkeley BART   \n",
       "131361              93.0                       4th St at Mission Bay Blvd S   \n",
       "131362             107.0                              17th St at Dolores St   \n",
       "\n",
       "        start_station_latitude  start_station_longitude  end_station_id  \\\n",
       "0                    37.761420              -122.426435           285.0   \n",
       "1                    37.795392              -122.394203            15.0   \n",
       "2                    37.348759              -121.894798           296.0   \n",
       "3                    37.773793              -122.421239            47.0   \n",
       "4                    37.776435              -122.426244            19.0   \n",
       "...                        ...                      ...             ...   \n",
       "131358               37.766474              -122.398295            81.0   \n",
       "131359               37.795393              -122.404770            58.0   \n",
       "131360               37.870139              -122.268422           255.0   \n",
       "131361               37.770407              -122.391198           126.0   \n",
       "131362               37.763015              -122.426497           119.0   \n",
       "\n",
       "                                         end_station_name  \\\n",
       "0                              Webster St at O'Farrell St   \n",
       "1       San Francisco Ferry Building (Harry Bridges Pl...   \n",
       "2                                   5th St at Virginia St   \n",
       "3                                   4th St at Harrison St   \n",
       "4                                    Post St at Kearny St   \n",
       "...                                                   ...   \n",
       "131358                                 Berry St at 4th St   \n",
       "131359                               Market St at 10th St   \n",
       "131360                        Virginia St at Shattuck Ave   \n",
       "131361                                        Esprit Park   \n",
       "131362                                  18th St at Noe St   \n",
       "\n",
       "        end_station_latitude  end_station_longitude  bike_id   user_type  \\\n",
       "0                  37.783521            -122.431158     2765  Subscriber   \n",
       "1                  37.795392            -122.394203     2815    Customer   \n",
       "2                  37.325998            -121.877120     3039    Customer   \n",
       "3                  37.780955            -122.399749      321    Customer   \n",
       "4                  37.788975            -122.403452      617  Subscriber   \n",
       "...                      ...                    ...      ...         ...   \n",
       "131358             37.775880            -122.393170     3035  Subscriber   \n",
       "131359             37.776619            -122.417385     2034  Subscriber   \n",
       "131360             37.876573            -122.269528     2243  Subscriber   \n",
       "131361             37.761634            -122.390648      545  Subscriber   \n",
       "131362             37.761047            -122.432642     4319  Subscriber   \n",
       "\n",
       "        member_birth_year member_gender bike_share_for_all_trip  \n",
       "0                  1986.0          Male                      No  \n",
       "1                     NaN           NaN                      No  \n",
       "2                  1996.0          Male                      No  \n",
       "3                     NaN           NaN                      No  \n",
       "4                  1991.0          Male                      No  \n",
       "...                   ...           ...                     ...  \n",
       "131358             1982.0        Female                      No  \n",
       "131359             1999.0        Female                      No  \n",
       "131360             1991.0          Male                      No  \n",
       "131361             1963.0          Male                      No  \n",
       "131362                NaN           NaN                      No  \n",
       "\n",
       "[1863721 rows x 16 columns]"
      ]
     },
     "execution_count": 8,
     "metadata": {},
     "output_type": "execute_result"
    }
   ],
   "source": [
    "df_all"
   ]
  },
  {
   "cell_type": "code",
   "execution_count": 9,
   "id": "e476712d",
   "metadata": {},
   "outputs": [
    {
     "name": "stdout",
     "output_type": "stream",
     "text": [
      "<class 'pandas.core.frame.DataFrame'>\n",
      "Int64Index: 1863721 entries, 0 to 131362\n",
      "Data columns (total 16 columns):\n",
      " #   Column                   Dtype  \n",
      "---  ------                   -----  \n",
      " 0   duration_sec             int64  \n",
      " 1   start_time               object \n",
      " 2   end_time                 object \n",
      " 3   start_station_id         float64\n",
      " 4   start_station_name       object \n",
      " 5   start_station_latitude   float64\n",
      " 6   start_station_longitude  float64\n",
      " 7   end_station_id           float64\n",
      " 8   end_station_name         object \n",
      " 9   end_station_latitude     float64\n",
      " 10  end_station_longitude    float64\n",
      " 11  bike_id                  int64  \n",
      " 12  user_type                object \n",
      " 13  member_birth_year        float64\n",
      " 14  member_gender            object \n",
      " 15  bike_share_for_all_trip  object \n",
      "dtypes: float64(7), int64(2), object(7)\n",
      "memory usage: 241.7+ MB\n"
     ]
    }
   ],
   "source": [
    "df_all.info()"
   ]
  },
  {
   "cell_type": "code",
   "execution_count": 10,
   "id": "a8d00383",
   "metadata": {},
   "outputs": [
    {
     "data": {
      "text/plain": [
       "duration_sec                    0\n",
       "start_time                      0\n",
       "end_time                        0\n",
       "start_station_id            11771\n",
       "start_station_name          11771\n",
       "start_station_latitude          0\n",
       "start_station_longitude         0\n",
       "end_station_id              11771\n",
       "end_station_name            11771\n",
       "end_station_latitude            0\n",
       "end_station_longitude           0\n",
       "bike_id                         0\n",
       "user_type                       0\n",
       "member_birth_year          110718\n",
       "member_gender              110367\n",
       "bike_share_for_all_trip         0\n",
       "dtype: int64"
      ]
     },
     "execution_count": 10,
     "metadata": {},
     "output_type": "execute_result"
    }
   ],
   "source": [
    "df_all.isna().sum()"
   ]
  },
  {
   "cell_type": "code",
   "execution_count": 11,
   "id": "a4dc61c3",
   "metadata": {},
   "outputs": [],
   "source": [
    "#dropping all null values\n",
    "df_all.dropna(axis=0, inplace= True)"
   ]
  },
  {
   "cell_type": "code",
   "execution_count": 12,
   "id": "ff261f8b",
   "metadata": {},
   "outputs": [
    {
     "data": {
      "text/plain": [
       "duration_sec                 int64\n",
       "start_time                  object\n",
       "end_time                    object\n",
       "start_station_id           float64\n",
       "start_station_name          object\n",
       "start_station_latitude     float64\n",
       "start_station_longitude    float64\n",
       "end_station_id             float64\n",
       "end_station_name            object\n",
       "end_station_latitude       float64\n",
       "end_station_longitude      float64\n",
       "bike_id                      int64\n",
       "user_type                   object\n",
       "member_birth_year          float64\n",
       "member_gender               object\n",
       "bike_share_for_all_trip     object\n",
       "dtype: object"
      ]
     },
     "execution_count": 12,
     "metadata": {},
     "output_type": "execute_result"
    }
   ],
   "source": [
    "df_all.dtypes"
   ]
  },
  {
   "cell_type": "code",
   "execution_count": 13,
   "id": "fa044e79",
   "metadata": {},
   "outputs": [],
   "source": [
    "#converting types to datetimne\n",
    "df_all.start_time = pd.to_datetime(df_all.start_time)\n",
    "df_all.end_time = pd.to_datetime(df_all.end_time)"
   ]
  },
  {
   "cell_type": "code",
   "execution_count": 14,
   "id": "87fca117",
   "metadata": {},
   "outputs": [],
   "source": [
    "#adding member age column\n",
    "df_all['member_age'] = 2018-df_all['member_birth_year']"
   ]
  },
  {
   "cell_type": "code",
   "execution_count": 15,
   "id": "a7b529d8",
   "metadata": {},
   "outputs": [],
   "source": [
    "df_all['duration_min'] = df_all['duration_sec'] / 60"
   ]
  },
  {
   "cell_type": "code",
   "execution_count": 16,
   "id": "45e37c1d",
   "metadata": {},
   "outputs": [
    {
     "data": {
      "text/html": [
       "<div>\n",
       "<style scoped>\n",
       "    .dataframe tbody tr th:only-of-type {\n",
       "        vertical-align: middle;\n",
       "    }\n",
       "\n",
       "    .dataframe tbody tr th {\n",
       "        vertical-align: top;\n",
       "    }\n",
       "\n",
       "    .dataframe thead th {\n",
       "        text-align: right;\n",
       "    }\n",
       "</style>\n",
       "<table border=\"1\" class=\"dataframe\">\n",
       "  <thead>\n",
       "    <tr style=\"text-align: right;\">\n",
       "      <th></th>\n",
       "      <th>duration_sec</th>\n",
       "      <th>start_time</th>\n",
       "      <th>end_time</th>\n",
       "      <th>start_station_id</th>\n",
       "      <th>start_station_name</th>\n",
       "      <th>start_station_latitude</th>\n",
       "      <th>start_station_longitude</th>\n",
       "      <th>end_station_id</th>\n",
       "      <th>end_station_name</th>\n",
       "      <th>end_station_latitude</th>\n",
       "      <th>end_station_longitude</th>\n",
       "      <th>bike_id</th>\n",
       "      <th>user_type</th>\n",
       "      <th>member_birth_year</th>\n",
       "      <th>member_gender</th>\n",
       "      <th>bike_share_for_all_trip</th>\n",
       "      <th>member_age</th>\n",
       "      <th>duration_min</th>\n",
       "    </tr>\n",
       "  </thead>\n",
       "  <tbody>\n",
       "    <tr>\n",
       "      <th>0</th>\n",
       "      <td>75284</td>\n",
       "      <td>2018-01-31 22:52:35.239</td>\n",
       "      <td>2018-02-01 19:47:19.824</td>\n",
       "      <td>120.0</td>\n",
       "      <td>Mission Dolores Park</td>\n",
       "      <td>37.761420</td>\n",
       "      <td>-122.426435</td>\n",
       "      <td>285.0</td>\n",
       "      <td>Webster St at O'Farrell St</td>\n",
       "      <td>37.783521</td>\n",
       "      <td>-122.431158</td>\n",
       "      <td>2765</td>\n",
       "      <td>Subscriber</td>\n",
       "      <td>1986.0</td>\n",
       "      <td>Male</td>\n",
       "      <td>No</td>\n",
       "      <td>32.0</td>\n",
       "      <td>1254.733333</td>\n",
       "    </tr>\n",
       "    <tr>\n",
       "      <th>2</th>\n",
       "      <td>71576</td>\n",
       "      <td>2018-01-31 14:23:55.889</td>\n",
       "      <td>2018-02-01 10:16:52.116</td>\n",
       "      <td>304.0</td>\n",
       "      <td>Jackson St at 5th St</td>\n",
       "      <td>37.348759</td>\n",
       "      <td>-121.894798</td>\n",
       "      <td>296.0</td>\n",
       "      <td>5th St at Virginia St</td>\n",
       "      <td>37.325998</td>\n",
       "      <td>-121.877120</td>\n",
       "      <td>3039</td>\n",
       "      <td>Customer</td>\n",
       "      <td>1996.0</td>\n",
       "      <td>Male</td>\n",
       "      <td>No</td>\n",
       "      <td>22.0</td>\n",
       "      <td>1192.933333</td>\n",
       "    </tr>\n",
       "    <tr>\n",
       "      <th>4</th>\n",
       "      <td>39966</td>\n",
       "      <td>2018-01-31 19:52:24.667</td>\n",
       "      <td>2018-02-01 06:58:31.053</td>\n",
       "      <td>74.0</td>\n",
       "      <td>Laguna St at Hayes St</td>\n",
       "      <td>37.776435</td>\n",
       "      <td>-122.426244</td>\n",
       "      <td>19.0</td>\n",
       "      <td>Post St at Kearny St</td>\n",
       "      <td>37.788975</td>\n",
       "      <td>-122.403452</td>\n",
       "      <td>617</td>\n",
       "      <td>Subscriber</td>\n",
       "      <td>1991.0</td>\n",
       "      <td>Male</td>\n",
       "      <td>No</td>\n",
       "      <td>27.0</td>\n",
       "      <td>666.100000</td>\n",
       "    </tr>\n",
       "    <tr>\n",
       "      <th>6</th>\n",
       "      <td>453</td>\n",
       "      <td>2018-01-31 23:53:53.632</td>\n",
       "      <td>2018-02-01 00:01:26.805</td>\n",
       "      <td>110.0</td>\n",
       "      <td>17th &amp; Folsom Street Park (17th St at Folsom St)</td>\n",
       "      <td>37.763708</td>\n",
       "      <td>-122.415204</td>\n",
       "      <td>134.0</td>\n",
       "      <td>Valencia St at 24th St</td>\n",
       "      <td>37.752428</td>\n",
       "      <td>-122.420628</td>\n",
       "      <td>3571</td>\n",
       "      <td>Subscriber</td>\n",
       "      <td>1988.0</td>\n",
       "      <td>Male</td>\n",
       "      <td>No</td>\n",
       "      <td>30.0</td>\n",
       "      <td>7.550000</td>\n",
       "    </tr>\n",
       "    <tr>\n",
       "      <th>7</th>\n",
       "      <td>180</td>\n",
       "      <td>2018-01-31 23:52:09.903</td>\n",
       "      <td>2018-01-31 23:55:10.807</td>\n",
       "      <td>81.0</td>\n",
       "      <td>Berry St at 4th St</td>\n",
       "      <td>37.775880</td>\n",
       "      <td>-122.393170</td>\n",
       "      <td>93.0</td>\n",
       "      <td>4th St at Mission Bay Blvd S</td>\n",
       "      <td>37.770407</td>\n",
       "      <td>-122.391198</td>\n",
       "      <td>1403</td>\n",
       "      <td>Subscriber</td>\n",
       "      <td>1980.0</td>\n",
       "      <td>Male</td>\n",
       "      <td>No</td>\n",
       "      <td>38.0</td>\n",
       "      <td>3.000000</td>\n",
       "    </tr>\n",
       "    <tr>\n",
       "      <th>...</th>\n",
       "      <td>...</td>\n",
       "      <td>...</td>\n",
       "      <td>...</td>\n",
       "      <td>...</td>\n",
       "      <td>...</td>\n",
       "      <td>...</td>\n",
       "      <td>...</td>\n",
       "      <td>...</td>\n",
       "      <td>...</td>\n",
       "      <td>...</td>\n",
       "      <td>...</td>\n",
       "      <td>...</td>\n",
       "      <td>...</td>\n",
       "      <td>...</td>\n",
       "      <td>...</td>\n",
       "      <td>...</td>\n",
       "      <td>...</td>\n",
       "      <td>...</td>\n",
       "    </tr>\n",
       "    <tr>\n",
       "      <th>131357</th>\n",
       "      <td>1137</td>\n",
       "      <td>2018-12-01 00:01:49.693</td>\n",
       "      <td>2018-12-01 00:20:47.519</td>\n",
       "      <td>73.0</td>\n",
       "      <td>Pierce St at Haight St</td>\n",
       "      <td>37.771793</td>\n",
       "      <td>-122.433708</td>\n",
       "      <td>50.0</td>\n",
       "      <td>2nd St at Townsend St</td>\n",
       "      <td>37.780526</td>\n",
       "      <td>-122.390288</td>\n",
       "      <td>273</td>\n",
       "      <td>Subscriber</td>\n",
       "      <td>1990.0</td>\n",
       "      <td>Male</td>\n",
       "      <td>No</td>\n",
       "      <td>28.0</td>\n",
       "      <td>18.950000</td>\n",
       "    </tr>\n",
       "    <tr>\n",
       "      <th>131358</th>\n",
       "      <td>473</td>\n",
       "      <td>2018-12-01 00:11:54.811</td>\n",
       "      <td>2018-12-01 00:19:48.547</td>\n",
       "      <td>345.0</td>\n",
       "      <td>Hubbell St at 16th St</td>\n",
       "      <td>37.766474</td>\n",
       "      <td>-122.398295</td>\n",
       "      <td>81.0</td>\n",
       "      <td>Berry St at 4th St</td>\n",
       "      <td>37.775880</td>\n",
       "      <td>-122.393170</td>\n",
       "      <td>3035</td>\n",
       "      <td>Subscriber</td>\n",
       "      <td>1982.0</td>\n",
       "      <td>Female</td>\n",
       "      <td>No</td>\n",
       "      <td>36.0</td>\n",
       "      <td>7.883333</td>\n",
       "    </tr>\n",
       "    <tr>\n",
       "      <th>131359</th>\n",
       "      <td>841</td>\n",
       "      <td>2018-12-01 00:02:48.726</td>\n",
       "      <td>2018-12-01 00:16:49.766</td>\n",
       "      <td>10.0</td>\n",
       "      <td>Washington St at Kearny St</td>\n",
       "      <td>37.795393</td>\n",
       "      <td>-122.404770</td>\n",
       "      <td>58.0</td>\n",
       "      <td>Market St at 10th St</td>\n",
       "      <td>37.776619</td>\n",
       "      <td>-122.417385</td>\n",
       "      <td>2034</td>\n",
       "      <td>Subscriber</td>\n",
       "      <td>1999.0</td>\n",
       "      <td>Female</td>\n",
       "      <td>No</td>\n",
       "      <td>19.0</td>\n",
       "      <td>14.016667</td>\n",
       "    </tr>\n",
       "    <tr>\n",
       "      <th>131360</th>\n",
       "      <td>260</td>\n",
       "      <td>2018-12-01 00:05:27.615</td>\n",
       "      <td>2018-12-01 00:09:47.956</td>\n",
       "      <td>245.0</td>\n",
       "      <td>Downtown Berkeley BART</td>\n",
       "      <td>37.870139</td>\n",
       "      <td>-122.268422</td>\n",
       "      <td>255.0</td>\n",
       "      <td>Virginia St at Shattuck Ave</td>\n",
       "      <td>37.876573</td>\n",
       "      <td>-122.269528</td>\n",
       "      <td>2243</td>\n",
       "      <td>Subscriber</td>\n",
       "      <td>1991.0</td>\n",
       "      <td>Male</td>\n",
       "      <td>No</td>\n",
       "      <td>27.0</td>\n",
       "      <td>4.333333</td>\n",
       "    </tr>\n",
       "    <tr>\n",
       "      <th>131361</th>\n",
       "      <td>292</td>\n",
       "      <td>2018-12-01 00:03:06.549</td>\n",
       "      <td>2018-12-01 00:07:59.080</td>\n",
       "      <td>93.0</td>\n",
       "      <td>4th St at Mission Bay Blvd S</td>\n",
       "      <td>37.770407</td>\n",
       "      <td>-122.391198</td>\n",
       "      <td>126.0</td>\n",
       "      <td>Esprit Park</td>\n",
       "      <td>37.761634</td>\n",
       "      <td>-122.390648</td>\n",
       "      <td>545</td>\n",
       "      <td>Subscriber</td>\n",
       "      <td>1963.0</td>\n",
       "      <td>Male</td>\n",
       "      <td>No</td>\n",
       "      <td>55.0</td>\n",
       "      <td>4.866667</td>\n",
       "    </tr>\n",
       "  </tbody>\n",
       "</table>\n",
       "<p>1741556 rows × 18 columns</p>\n",
       "</div>"
      ],
      "text/plain": [
       "        duration_sec              start_time                end_time  \\\n",
       "0              75284 2018-01-31 22:52:35.239 2018-02-01 19:47:19.824   \n",
       "2              71576 2018-01-31 14:23:55.889 2018-02-01 10:16:52.116   \n",
       "4              39966 2018-01-31 19:52:24.667 2018-02-01 06:58:31.053   \n",
       "6                453 2018-01-31 23:53:53.632 2018-02-01 00:01:26.805   \n",
       "7                180 2018-01-31 23:52:09.903 2018-01-31 23:55:10.807   \n",
       "...              ...                     ...                     ...   \n",
       "131357          1137 2018-12-01 00:01:49.693 2018-12-01 00:20:47.519   \n",
       "131358           473 2018-12-01 00:11:54.811 2018-12-01 00:19:48.547   \n",
       "131359           841 2018-12-01 00:02:48.726 2018-12-01 00:16:49.766   \n",
       "131360           260 2018-12-01 00:05:27.615 2018-12-01 00:09:47.956   \n",
       "131361           292 2018-12-01 00:03:06.549 2018-12-01 00:07:59.080   \n",
       "\n",
       "        start_station_id                                start_station_name  \\\n",
       "0                  120.0                              Mission Dolores Park   \n",
       "2                  304.0                              Jackson St at 5th St   \n",
       "4                   74.0                             Laguna St at Hayes St   \n",
       "6                  110.0  17th & Folsom Street Park (17th St at Folsom St)   \n",
       "7                   81.0                                Berry St at 4th St   \n",
       "...                  ...                                               ...   \n",
       "131357              73.0                            Pierce St at Haight St   \n",
       "131358             345.0                             Hubbell St at 16th St   \n",
       "131359              10.0                        Washington St at Kearny St   \n",
       "131360             245.0                            Downtown Berkeley BART   \n",
       "131361              93.0                      4th St at Mission Bay Blvd S   \n",
       "\n",
       "        start_station_latitude  start_station_longitude  end_station_id  \\\n",
       "0                    37.761420              -122.426435           285.0   \n",
       "2                    37.348759              -121.894798           296.0   \n",
       "4                    37.776435              -122.426244            19.0   \n",
       "6                    37.763708              -122.415204           134.0   \n",
       "7                    37.775880              -122.393170            93.0   \n",
       "...                        ...                      ...             ...   \n",
       "131357               37.771793              -122.433708            50.0   \n",
       "131358               37.766474              -122.398295            81.0   \n",
       "131359               37.795393              -122.404770            58.0   \n",
       "131360               37.870139              -122.268422           255.0   \n",
       "131361               37.770407              -122.391198           126.0   \n",
       "\n",
       "                    end_station_name  end_station_latitude  \\\n",
       "0         Webster St at O'Farrell St             37.783521   \n",
       "2              5th St at Virginia St             37.325998   \n",
       "4               Post St at Kearny St             37.788975   \n",
       "6             Valencia St at 24th St             37.752428   \n",
       "7       4th St at Mission Bay Blvd S             37.770407   \n",
       "...                              ...                   ...   \n",
       "131357         2nd St at Townsend St             37.780526   \n",
       "131358            Berry St at 4th St             37.775880   \n",
       "131359          Market St at 10th St             37.776619   \n",
       "131360   Virginia St at Shattuck Ave             37.876573   \n",
       "131361                   Esprit Park             37.761634   \n",
       "\n",
       "        end_station_longitude  bike_id   user_type  member_birth_year  \\\n",
       "0                 -122.431158     2765  Subscriber             1986.0   \n",
       "2                 -121.877120     3039    Customer             1996.0   \n",
       "4                 -122.403452      617  Subscriber             1991.0   \n",
       "6                 -122.420628     3571  Subscriber             1988.0   \n",
       "7                 -122.391198     1403  Subscriber             1980.0   \n",
       "...                       ...      ...         ...                ...   \n",
       "131357            -122.390288      273  Subscriber             1990.0   \n",
       "131358            -122.393170     3035  Subscriber             1982.0   \n",
       "131359            -122.417385     2034  Subscriber             1999.0   \n",
       "131360            -122.269528     2243  Subscriber             1991.0   \n",
       "131361            -122.390648      545  Subscriber             1963.0   \n",
       "\n",
       "       member_gender bike_share_for_all_trip  member_age  duration_min  \n",
       "0               Male                      No        32.0   1254.733333  \n",
       "2               Male                      No        22.0   1192.933333  \n",
       "4               Male                      No        27.0    666.100000  \n",
       "6               Male                      No        30.0      7.550000  \n",
       "7               Male                      No        38.0      3.000000  \n",
       "...              ...                     ...         ...           ...  \n",
       "131357          Male                      No        28.0     18.950000  \n",
       "131358        Female                      No        36.0      7.883333  \n",
       "131359        Female                      No        19.0     14.016667  \n",
       "131360          Male                      No        27.0      4.333333  \n",
       "131361          Male                      No        55.0      4.866667  \n",
       "\n",
       "[1741556 rows x 18 columns]"
      ]
     },
     "execution_count": 16,
     "metadata": {},
     "output_type": "execute_result"
    }
   ],
   "source": [
    "df_all"
   ]
  },
  {
   "cell_type": "code",
   "execution_count": 17,
   "id": "5820a230",
   "metadata": {},
   "outputs": [
    {
     "data": {
      "text/html": [
       "<div>\n",
       "<style scoped>\n",
       "    .dataframe tbody tr th:only-of-type {\n",
       "        vertical-align: middle;\n",
       "    }\n",
       "\n",
       "    .dataframe tbody tr th {\n",
       "        vertical-align: top;\n",
       "    }\n",
       "\n",
       "    .dataframe thead th {\n",
       "        text-align: right;\n",
       "    }\n",
       "</style>\n",
       "<table border=\"1\" class=\"dataframe\">\n",
       "  <thead>\n",
       "    <tr style=\"text-align: right;\">\n",
       "      <th></th>\n",
       "      <th>duration_sec</th>\n",
       "      <th>start_station_id</th>\n",
       "      <th>start_station_latitude</th>\n",
       "      <th>start_station_longitude</th>\n",
       "      <th>end_station_id</th>\n",
       "      <th>end_station_latitude</th>\n",
       "      <th>end_station_longitude</th>\n",
       "      <th>bike_id</th>\n",
       "      <th>member_birth_year</th>\n",
       "      <th>member_age</th>\n",
       "      <th>duration_min</th>\n",
       "    </tr>\n",
       "  </thead>\n",
       "  <tbody>\n",
       "    <tr>\n",
       "      <th>count</th>\n",
       "      <td>1.741556e+06</td>\n",
       "      <td>1.741556e+06</td>\n",
       "      <td>1.741556e+06</td>\n",
       "      <td>1.741556e+06</td>\n",
       "      <td>1.741556e+06</td>\n",
       "      <td>1.741556e+06</td>\n",
       "      <td>1.741556e+06</td>\n",
       "      <td>1.741556e+06</td>\n",
       "      <td>1.741556e+06</td>\n",
       "      <td>1.741556e+06</td>\n",
       "      <td>1.741556e+06</td>\n",
       "    </tr>\n",
       "    <tr>\n",
       "      <th>mean</th>\n",
       "      <td>7.728624e+02</td>\n",
       "      <td>1.204426e+02</td>\n",
       "      <td>3.776877e+01</td>\n",
       "      <td>-1.223511e+02</td>\n",
       "      <td>1.189243e+02</td>\n",
       "      <td>3.776887e+01</td>\n",
       "      <td>-1.223506e+02</td>\n",
       "      <td>2.292758e+03</td>\n",
       "      <td>1.983061e+03</td>\n",
       "      <td>3.493921e+01</td>\n",
       "      <td>1.288104e+01</td>\n",
       "    </tr>\n",
       "    <tr>\n",
       "      <th>std</th>\n",
       "      <td>1.943048e+03</td>\n",
       "      <td>1.001721e+02</td>\n",
       "      <td>1.015663e-01</td>\n",
       "      <td>1.193663e-01</td>\n",
       "      <td>1.001915e+02</td>\n",
       "      <td>1.014133e-01</td>\n",
       "      <td>1.187729e-01</td>\n",
       "      <td>1.287598e+03</td>\n",
       "      <td>1.045133e+01</td>\n",
       "      <td>1.045133e+01</td>\n",
       "      <td>3.238413e+01</td>\n",
       "    </tr>\n",
       "    <tr>\n",
       "      <th>min</th>\n",
       "      <td>6.100000e+01</td>\n",
       "      <td>3.000000e+00</td>\n",
       "      <td>3.726331e+01</td>\n",
       "      <td>-1.224737e+02</td>\n",
       "      <td>3.000000e+00</td>\n",
       "      <td>3.726331e+01</td>\n",
       "      <td>-1.224737e+02</td>\n",
       "      <td>1.100000e+01</td>\n",
       "      <td>1.881000e+03</td>\n",
       "      <td>1.800000e+01</td>\n",
       "      <td>1.016667e+00</td>\n",
       "    </tr>\n",
       "    <tr>\n",
       "      <th>25%</th>\n",
       "      <td>3.440000e+02</td>\n",
       "      <td>3.600000e+01</td>\n",
       "      <td>3.777106e+01</td>\n",
       "      <td>-1.224114e+02</td>\n",
       "      <td>3.000000e+01</td>\n",
       "      <td>3.777106e+01</td>\n",
       "      <td>-1.224094e+02</td>\n",
       "      <td>1.221000e+03</td>\n",
       "      <td>1.978000e+03</td>\n",
       "      <td>2.700000e+01</td>\n",
       "      <td>5.733333e+00</td>\n",
       "    </tr>\n",
       "    <tr>\n",
       "      <th>50%</th>\n",
       "      <td>5.430000e+02</td>\n",
       "      <td>8.900000e+01</td>\n",
       "      <td>3.778107e+01</td>\n",
       "      <td>-1.223971e+02</td>\n",
       "      <td>8.900000e+01</td>\n",
       "      <td>3.778127e+01</td>\n",
       "      <td>-1.223959e+02</td>\n",
       "      <td>2.333000e+03</td>\n",
       "      <td>1.985000e+03</td>\n",
       "      <td>3.300000e+01</td>\n",
       "      <td>9.050000e+00</td>\n",
       "    </tr>\n",
       "    <tr>\n",
       "      <th>75%</th>\n",
       "      <td>8.390000e+02</td>\n",
       "      <td>1.870000e+02</td>\n",
       "      <td>3.779728e+01</td>\n",
       "      <td>-1.222876e+02</td>\n",
       "      <td>1.860000e+02</td>\n",
       "      <td>3.779728e+01</td>\n",
       "      <td>-1.222894e+02</td>\n",
       "      <td>3.327000e+03</td>\n",
       "      <td>1.991000e+03</td>\n",
       "      <td>4.000000e+01</td>\n",
       "      <td>1.398333e+01</td>\n",
       "    </tr>\n",
       "    <tr>\n",
       "      <th>max</th>\n",
       "      <td>8.628100e+04</td>\n",
       "      <td>3.810000e+02</td>\n",
       "      <td>3.788022e+01</td>\n",
       "      <td>-1.218333e+02</td>\n",
       "      <td>3.810000e+02</td>\n",
       "      <td>3.788022e+01</td>\n",
       "      <td>-1.218333e+02</td>\n",
       "      <td>6.234000e+03</td>\n",
       "      <td>2.000000e+03</td>\n",
       "      <td>1.370000e+02</td>\n",
       "      <td>1.438017e+03</td>\n",
       "    </tr>\n",
       "  </tbody>\n",
       "</table>\n",
       "</div>"
      ],
      "text/plain": [
       "       duration_sec  start_station_id  start_station_latitude  \\\n",
       "count  1.741556e+06      1.741556e+06            1.741556e+06   \n",
       "mean   7.728624e+02      1.204426e+02            3.776877e+01   \n",
       "std    1.943048e+03      1.001721e+02            1.015663e-01   \n",
       "min    6.100000e+01      3.000000e+00            3.726331e+01   \n",
       "25%    3.440000e+02      3.600000e+01            3.777106e+01   \n",
       "50%    5.430000e+02      8.900000e+01            3.778107e+01   \n",
       "75%    8.390000e+02      1.870000e+02            3.779728e+01   \n",
       "max    8.628100e+04      3.810000e+02            3.788022e+01   \n",
       "\n",
       "       start_station_longitude  end_station_id  end_station_latitude  \\\n",
       "count             1.741556e+06    1.741556e+06          1.741556e+06   \n",
       "mean             -1.223511e+02    1.189243e+02          3.776887e+01   \n",
       "std               1.193663e-01    1.001915e+02          1.014133e-01   \n",
       "min              -1.224737e+02    3.000000e+00          3.726331e+01   \n",
       "25%              -1.224114e+02    3.000000e+01          3.777106e+01   \n",
       "50%              -1.223971e+02    8.900000e+01          3.778127e+01   \n",
       "75%              -1.222876e+02    1.860000e+02          3.779728e+01   \n",
       "max              -1.218333e+02    3.810000e+02          3.788022e+01   \n",
       "\n",
       "       end_station_longitude       bike_id  member_birth_year    member_age  \\\n",
       "count           1.741556e+06  1.741556e+06       1.741556e+06  1.741556e+06   \n",
       "mean           -1.223506e+02  2.292758e+03       1.983061e+03  3.493921e+01   \n",
       "std             1.187729e-01  1.287598e+03       1.045133e+01  1.045133e+01   \n",
       "min            -1.224737e+02  1.100000e+01       1.881000e+03  1.800000e+01   \n",
       "25%            -1.224094e+02  1.221000e+03       1.978000e+03  2.700000e+01   \n",
       "50%            -1.223959e+02  2.333000e+03       1.985000e+03  3.300000e+01   \n",
       "75%            -1.222894e+02  3.327000e+03       1.991000e+03  4.000000e+01   \n",
       "max            -1.218333e+02  6.234000e+03       2.000000e+03  1.370000e+02   \n",
       "\n",
       "       duration_min  \n",
       "count  1.741556e+06  \n",
       "mean   1.288104e+01  \n",
       "std    3.238413e+01  \n",
       "min    1.016667e+00  \n",
       "25%    5.733333e+00  \n",
       "50%    9.050000e+00  \n",
       "75%    1.398333e+01  \n",
       "max    1.438017e+03  "
      ]
     },
     "execution_count": 17,
     "metadata": {},
     "output_type": "execute_result"
    }
   ],
   "source": [
    "df_all.describe()"
   ]
  },
  {
   "cell_type": "markdown",
   "id": "293a325b",
   "metadata": {
    "tags": []
   },
   "source": [
    "### What is the structure of your dataset?\n",
    "\n",
    "> There are 1,863,721 data entry for the whole year of 2018 that describes the bike rental scene in the San Francisco Bay area of California with columns (duration_sec, start_time, end_time, start_station_id, start_station_name, start_station_latitude, start_station_longitude, end_station_id, end_station_name, end_station_latitude ,end_station_longitude, bike_id, user_type, member_birth_year, member_gender, bike_share_for_all_trip, member_age)  \n",
    " \n",
    "### What is/are the main feature(s) of interest in your dataset?\n",
    "\n",
    "> age, duration, user type, and gender from the dataset\n",
    "\n",
    "### What features in the dataset do you think will help support your investigation into your feature(s) of interest?\n",
    "\n",
    "> the age and user type might be a big factor as it will show what catagory of people are more likely to ride bikes along side which places do people prefer to ride thier bikes the most at by knowing the duration."
   ]
  },
  {
   "cell_type": "markdown",
   "id": "d906fdec",
   "metadata": {},
   "source": [
    "## Univariate Exploration\n",
    "\n",
    "> In this section, investigate distributions of individual variables. If\n",
    "you see unusual points or outliers, take a deeper look to clean things up\n",
    "and prepare yourself to look at relationships between variables."
   ]
  },
  {
   "cell_type": "code",
   "execution_count": 34,
   "id": "6fb2968a",
   "metadata": {},
   "outputs": [
    {
     "data": {
      "image/png": "[encoded data removed]",
      "text/plain": [
       "<Figure size 576x360 with 1 Axes>"
      ]
     },
     "metadata": {},
     "output_type": "display_data"
    }
   ],
   "source": [
    "bins = np.arange(0, df_all['duration_sec'].max() + 100 , 100)\n",
    "plt.figure(figsize=[8, 5])\n",
    "plt.hist(data = df_all , x = 'duration_sec' , bins = bins)\n",
    "plt.xlim(0,2500)\n",
    "plt.title('Trip Duration Distribution')\n",
    "plt.xlabel('Duration in Seconds')\n",
    "plt.ylabel('Frequency');"
   ]
  },
  {
   "cell_type": "markdown",
   "id": "66f4a97c",
   "metadata": {},
   "source": [
    "the duration time distribution is left tailed and mostly centered on values which are less than 2000 seconds with peak around 400 seconds. Number of Trips values first increases starting from around 8000  to 12500 trips at around 400 seconds but then starts to fall below at 2000 trips under 2000 seconds."
   ]
  },
  {
   "cell_type": "code",
   "execution_count": 35,
   "id": "04d14a74",
   "metadata": {},
   "outputs": [
    {
     "data": {
      "image/png": "[encoded data removed]",
      "text/plain": [
       "<Figure size 576x360 with 1 Axes>"
      ]
     },
     "metadata": {},
     "output_type": "display_data"
    }
   ],
   "source": [
    "log_binsize = 0.025\n",
    "bins = 10 ** np.arange(0, np.log10(df_all['duration_min'].max())+log_binsize, log_binsize)\n",
    "\n",
    "plt.figure(figsize=[8, 5])\n",
    "plt.hist(data = df_all, x = 'duration_min', bins = bins)\n",
    "plt.xscale('log')\n",
    "plt.xticks([1, 2, 5, 10, 20, 50, 100, 200, 500, 1000, 2000], [1, 2, 5, 10, 20, 50, 100, 200, 500, 1000, 2000])\n",
    "plt.xlabel('Duration in minutes');"
   ]
  },
  {
   "cell_type": "markdown",
   "id": "808828ab",
   "metadata": {},
   "source": [
    "a noraml distrubution for the duration of trips in minutes by applying logarithmic transformation to x-axis"
   ]
  },
  {
   "cell_type": "code",
   "execution_count": 20,
   "id": "b2619c4d",
   "metadata": {},
   "outputs": [],
   "source": [
    "#using the start time to seperate and get the hour,day,week,month of each bike rental\n",
    "df_all['start_date'] = df_all.start_time.dt.strftime('%Y-%m-%d')\n",
    "df_all['start_month'] = df_all.start_time.dt.strftime('%B')\n",
    "df_all['start_week'] = df_all.start_time.dt.strftime('%A')\n",
    "df_all['start_day'] = df_all.start_time.dt.strftime('%H')"
   ]
  },
  {
   "cell_type": "code",
   "execution_count": 21,
   "id": "db5c148f",
   "metadata": {},
   "outputs": [
    {
     "data": {
      "text/html": [
       "<div>\n",
       "<style scoped>\n",
       "    .dataframe tbody tr th:only-of-type {\n",
       "        vertical-align: middle;\n",
       "    }\n",
       "\n",
       "    .dataframe tbody tr th {\n",
       "        vertical-align: top;\n",
       "    }\n",
       "\n",
       "    .dataframe thead th {\n",
       "        text-align: right;\n",
       "    }\n",
       "</style>\n",
       "<table border=\"1\" class=\"dataframe\">\n",
       "  <thead>\n",
       "    <tr style=\"text-align: right;\">\n",
       "      <th></th>\n",
       "      <th>duration_sec</th>\n",
       "      <th>start_time</th>\n",
       "      <th>end_time</th>\n",
       "      <th>start_station_id</th>\n",
       "      <th>start_station_name</th>\n",
       "      <th>start_station_latitude</th>\n",
       "      <th>start_station_longitude</th>\n",
       "      <th>end_station_id</th>\n",
       "      <th>end_station_name</th>\n",
       "      <th>end_station_latitude</th>\n",
       "      <th>...</th>\n",
       "      <th>user_type</th>\n",
       "      <th>member_birth_year</th>\n",
       "      <th>member_gender</th>\n",
       "      <th>bike_share_for_all_trip</th>\n",
       "      <th>member_age</th>\n",
       "      <th>duration_min</th>\n",
       "      <th>start_date</th>\n",
       "      <th>start_month</th>\n",
       "      <th>start_week</th>\n",
       "      <th>start_day</th>\n",
       "    </tr>\n",
       "  </thead>\n",
       "  <tbody>\n",
       "    <tr>\n",
       "      <th>0</th>\n",
       "      <td>75284</td>\n",
       "      <td>2018-01-31 22:52:35.239</td>\n",
       "      <td>2018-02-01 19:47:19.824</td>\n",
       "      <td>120.0</td>\n",
       "      <td>Mission Dolores Park</td>\n",
       "      <td>37.76142</td>\n",
       "      <td>-122.426435</td>\n",
       "      <td>285.0</td>\n",
       "      <td>Webster St at O'Farrell St</td>\n",
       "      <td>37.783521</td>\n",
       "      <td>...</td>\n",
       "      <td>Subscriber</td>\n",
       "      <td>1986.0</td>\n",
       "      <td>Male</td>\n",
       "      <td>No</td>\n",
       "      <td>32.0</td>\n",
       "      <td>1254.733333</td>\n",
       "      <td>2018-01-31</td>\n",
       "      <td>January</td>\n",
       "      <td>Wednesday</td>\n",
       "      <td>22</td>\n",
       "    </tr>\n",
       "  </tbody>\n",
       "</table>\n",
       "<p>1 rows × 22 columns</p>\n",
       "</div>"
      ],
      "text/plain": [
       "   duration_sec              start_time                end_time  \\\n",
       "0         75284 2018-01-31 22:52:35.239 2018-02-01 19:47:19.824   \n",
       "\n",
       "   start_station_id    start_station_name  start_station_latitude  \\\n",
       "0             120.0  Mission Dolores Park                37.76142   \n",
       "\n",
       "   start_station_longitude  end_station_id            end_station_name  \\\n",
       "0              -122.426435           285.0  Webster St at O'Farrell St   \n",
       "\n",
       "   end_station_latitude  ...   user_type  member_birth_year member_gender  \\\n",
       "0             37.783521  ...  Subscriber             1986.0          Male   \n",
       "\n",
       "   bike_share_for_all_trip member_age duration_min  start_date  start_month  \\\n",
       "0                       No       32.0  1254.733333  2018-01-31      January   \n",
       "\n",
       "  start_week start_day  \n",
       "0  Wednesday        22  \n",
       "\n",
       "[1 rows x 22 columns]"
      ]
     },
     "execution_count": 21,
     "metadata": {},
     "output_type": "execute_result"
    }
   ],
   "source": [
    "df_all.head(1)"
   ]
  },
  {
   "cell_type": "code",
   "execution_count": 22,
   "id": "7026507e",
   "metadata": {},
   "outputs": [
    {
     "data": {
      "image/png": "[encoded data removed]",
      "text/plain": [
       "<Figure size 720x576 with 1 Axes>"
      ]
     },
     "metadata": {},
     "output_type": "display_data"
    }
   ],
   "source": [
    "sns.set(rc={'figure.figsize':(10,8)})\n",
    "sns.countplot(data = df_all, x = 'start_month').set(title='Trip per Month');"
   ]
  },
  {
   "cell_type": "markdown",
   "id": "28bc8bc8",
   "metadata": {},
   "source": [
    "October is the busiest month"
   ]
  },
  {
   "cell_type": "code",
   "execution_count": 39,
   "id": "ad7e6a97",
   "metadata": {},
   "outputs": [
    {
     "data": {
      "image/png": "[encoded data removed]",
      "text/plain": [
       "<Figure size 720x576 with 1 Axes>"
      ]
     },
     "metadata": {},
     "output_type": "display_data"
    }
   ],
   "source": [
    "#rearrange days order\n",
    "days = [\"Monday\", \"Tuesday\", \"Wednesday\", \"Thursday\", \"Friday\", \"Saturday\", \"Sunday\"]\n",
    "df_all[\"start_week\"] = pd.Categorical(df_all.start_week, categories=days, ordered=True)\n",
    "\n",
    "sns.set(rc={'figure.figsize':(10,8)})\n",
    "sns.countplot(data = df_all, x = 'start_week').set(title='Trip per Week');"
   ]
  },
  {
   "cell_type": "markdown",
   "id": "617b0c8d",
   "metadata": {},
   "source": [
    "Tuesday is the buseist day"
   ]
  },
  {
   "cell_type": "code",
   "execution_count": 41,
   "id": "aec7a098",
   "metadata": {},
   "outputs": [
    {
     "data": {
      "image/png": "[encoded data removed]",
      "text/plain": [
       "<Figure size 720x576 with 1 Axes>"
      ]
     },
     "metadata": {},
     "output_type": "display_data"
    }
   ],
   "source": [
    "days = [\"00\", \"01\", \"02\", \"03\",\"04\",\"05\", \"06\",\"07\",\"08\",\"09\",\"10\",\"11\",\"12\",\"13\",\"14\",\"15\",\"16\",\"17\",\"18\",\"19\",\"20\",\"21\",\"22\",\"23\"]\n",
    "df_all[\"start_day\"] = pd.Categorical(df_all.start_day, categories=days, ordered=True)\n",
    "\n",
    "sns.set(rc={'figure.figsize':(10,8)})\n",
    "sns.countplot(data = df_all, x = 'start_day').set(title='Trip per hour');"
   ]
  },
  {
   "cell_type": "markdown",
   "id": "f8775dd5",
   "metadata": {},
   "source": [
    "8 pm is the busiest time"
   ]
  },
  {
   "cell_type": "code",
   "execution_count": 25,
   "id": "7bc63c66",
   "metadata": {},
   "outputs": [
    {
     "data": {
      "image/png": "[encoded data removed]",
      "text/plain": [
       "<Figure size 576x504 with 1 Axes>"
      ]
     },
     "metadata": {},
     "output_type": "display_data"
    }
   ],
   "source": [
    "df_all.user_type.value_counts().plot(kind='pie', figsize=(8,7),fontsize =10, autopct='%1.1f%%')\n",
    "\n",
    "ax = plt.gca()\n",
    "ax.set_xlabel('user type')\n",
    "ax.set_title(\"Subscribers vs customers\", fontsize=10);\n",
    "\n"
   ]
  },
  {
   "cell_type": "markdown",
   "id": "599b1e8c",
   "metadata": {},
   "source": [
    "The percentage of users that are subscribers vs regular customers"
   ]
  },
  {
   "cell_type": "code",
   "execution_count": 26,
   "id": "799e8c0b",
   "metadata": {},
   "outputs": [
    {
     "data": {
      "image/png": "[encoded data removed]",
      "text/plain": [
       "<Figure size 720x576 with 1 Axes>"
      ]
     },
     "metadata": {},
     "output_type": "display_data"
    }
   ],
   "source": [
    "sns.countplot(data=df_all,x='member_gender').set(title='Gender of bike riders');"
   ]
  },
  {
   "cell_type": "markdown",
   "id": "45c0a61b",
   "metadata": {},
   "source": [
    "Males bike riders are triple that of female bike riders."
   ]
  },
  {
   "cell_type": "markdown",
   "id": "b3ef1554",
   "metadata": {},
   "source": [
    "> Make sure that, after every plot or related series of plots, that you\n",
    "include a Markdown cell with comments about what you observed, and what\n",
    "you plan on investigating next."
   ]
  },
  {
   "cell_type": "markdown",
   "id": "2222da00",
   "metadata": {},
   "source": [
    "### Discuss the distribution(s) of your variable(s) of interest. Were there any unusual points? Did you need to perform any transformations?\n",
    "\n",
    "> The distrubution of the bike trip duration was left tailed so we needed to apply a logarithmic transformation to x-axis\n",
    "\n",
    "### Of the features you investigated, were there any unusual distributions? Did you perform any operations on the data to tidy, adjust, or change the form of the data? If so, why did you do this?\n",
    "\n",
    "> for a more clealer understanding the duration was changed from seconds to minutes, then we seprated each month, day, and hour for analysis usage."
   ]
  },
  {
   "cell_type": "markdown",
   "id": "2a735b38",
   "metadata": {},
   "source": [
    "## Bivariate Exploration\n",
    "\n",
    "> In this section, investigate relationships between pairs of variables in your\n",
    "data. Make sure the variables that you cover here have been introduced in some\n",
    "fashion in the previous section (univariate exploration)."
   ]
  },
  {
   "cell_type": "code",
   "execution_count": 27,
   "id": "0f6fcfbe",
   "metadata": {},
   "outputs": [
    {
     "data": {
      "image/png": "[encoded data removed]",
      "text/plain": [
       "<Figure size 720x576 with 1 Axes>"
      ]
     },
     "metadata": {},
     "output_type": "display_data"
    }
   ],
   "source": [
    "sns.set(style=\"darkgrid\")\n",
    "sns.violinplot(data=df_all[df_all.duration_min <80], x='user_type', y='duration_min', palette=\"Pastel1\");\n",
    "plt.xlabel('User');\n",
    "plt.ylabel('Trip Duration in Minute');"
   ]
  },
  {
   "cell_type": "markdown",
   "id": "e0f8a843",
   "metadata": {},
   "source": [
    "customer trip duration tend to be more narrower than the average subscriber"
   ]
  },
  {
   "cell_type": "code",
   "execution_count": 28,
   "id": "301ec507",
   "metadata": {},
   "outputs": [
    {
     "data": {
      "image/png": "[encoded data removed]",
      "text/plain": [
       "<Figure size 720x576 with 1 Axes>"
      ]
     },
     "metadata": {},
     "output_type": "display_data"
    }
   ],
   "source": [
    "sns.set(style=\"darkgrid\")\n",
    "sns.boxplot(data=df_all, x='user_type', y='member_age').set(title='Age per user type')\n",
    "plt.xlabel('User Type')\n",
    "plt.ylabel('Member Age');"
   ]
  },
  {
   "cell_type": "markdown",
   "id": "91840ba4",
   "metadata": {},
   "source": [
    "Subscribers tend to be more older than the average customer"
   ]
  },
  {
   "cell_type": "code",
   "execution_count": 29,
   "id": "0d0bc9ed",
   "metadata": {},
   "outputs": [
    {
     "data": {
      "image/png": "[encoded data removed]",
      "text/plain": [
       "<Figure size 720x576 with 1 Axes>"
      ]
     },
     "metadata": {},
     "output_type": "display_data"
    }
   ],
   "source": [
    "sns.set(rc={'figure.figsize':(10,8)})\n",
    "sns.barplot(data = df_all, x = 'start_month',y='duration_min').set(title='Trip duration per Month');"
   ]
  },
  {
   "cell_type": "markdown",
   "id": "bcf6171b",
   "metadata": {},
   "source": [
    "month of july tend to have the highest trip duration "
   ]
  },
  {
   "cell_type": "code",
   "execution_count": 40,
   "id": "44a37c7c",
   "metadata": {},
   "outputs": [
    {
     "data": {
      "image/png": "[encoded data removed]",
      "text/plain": [
       "<Figure size 720x576 with 1 Axes>"
      ]
     },
     "metadata": {},
     "output_type": "display_data"
    }
   ],
   "source": [
    "sns.set(rc={'figure.figsize':(10,8)})\n",
    "sns.barplot(data = df_all, x = 'start_week',y='duration_min').set(title='Trip duration per Week');"
   ]
  },
  {
   "cell_type": "markdown",
   "id": "065bb136",
   "metadata": {},
   "source": [
    "the weekend on Sunday and saturday tend to have the highest duration of ride time"
   ]
  },
  {
   "cell_type": "markdown",
   "id": "5949b939",
   "metadata": {},
   "source": [
    "### Talk about some of the relationships you observed in this part of the investigation. How did the feature(s) of interest vary with other features in the dataset?\n",
    "\n",
    "> it was noticed that customers tend to ride thier bikes more compared to subscribers which was assumed the oppisite by logic witout looking at any data. the most common days to ride a bike is on weekends, saturdays and sundays. with the most highest months during the summer.\n",
    "\n",
    "### Did you observe any interesting relationships between the other features (not the main feature(s) of interest)?\n",
    "\n",
    "> the duration of ride and number of rides for each day doesnt correspond. the average subscriber is older than the average customer and takes less time in thier bike ride"
   ]
  },
  {
   "cell_type": "markdown",
   "id": "313fdaf3",
   "metadata": {},
   "source": [
    "## Multivariate Exploration\n",
    "\n",
    "> Create plots of three or more variables to investigate your data even\n",
    "further. Make sure that your investigations are justified, and follow from\n",
    "your work in the previous sections."
   ]
  },
  {
   "cell_type": "code",
   "execution_count": 42,
   "id": "31d20240",
   "metadata": {},
   "outputs": [
    {
     "data": {
      "image/png": "[encoded data removed]",
      "text/plain": [
       "<Figure size 720x576 with 1 Axes>"
      ]
     },
     "metadata": {},
     "output_type": "display_data"
    }
   ],
   "source": [
    "df_all= df_all[df_all.member_gender != 'Other']\n",
    "sns.pointplot(data=df_all, x='start_day', y='duration_min', hue='member_gender', height=4.5,dodge=0.5)\n",
    "plt.xlabel('Day')\n",
    "\n",
    "plt.ylabel('Trip Duration in Minute');"
   ]
  },
  {
   "cell_type": "code",
   "execution_count": 54,
   "id": "9fc952db",
   "metadata": {},
   "outputs": [
    {
     "data": {
      "text/plain": [
       "Text(0.5, 0.98, 'Male and Female Trip Duration during weekdays')"
      ]
     },
     "execution_count": 54,
     "metadata": {},
     "output_type": "execute_result"
    },
    {
     "data": {
      "image/png": "[encoded data removed]",
      "text/plain": [
       "<Figure size 1134x324 with 7 Axes>"
      ]
     },
     "metadata": {},
     "output_type": "display_data"
    }
   ],
   "source": [
    "df_all.rename(columns = {'start_week':'Day'}, inplace = True)\n",
    "df_all.rename(columns = {'duration_min':'Duration'}, inplace = True)\n",
    "df_all.rename(columns = {'member_gender':'Gender'}, inplace = True)\n",
    "g = sns.FacetGrid(df_all, col=\"Day\", height=4.5, aspect=.5)\n",
    "g.map(sns.barplot, \"Gender\", \"Duration\", order=[\"Male\", \"Female\"]);\n",
    "g.fig.subplots_adjust(top=0.8)\n",
    "g.fig.suptitle('Male and Female Trip Duration during weekdays')"
   ]
  },
  {
   "cell_type": "markdown",
   "id": "12e2bfd6",
   "metadata": {},
   "source": [
    "Females have a much higher trip duration on average when compared to males on each day of the week and hour especially on weekends. we can also see that sunday and saturday has much trip time duration as mentioned in the bivariate exploration part."
   ]
  },
  {
   "cell_type": "code",
   "execution_count": 57,
   "id": "919dc8b5",
   "metadata": {},
   "outputs": [
    {
     "data": {
      "image/png": "[encoded data removed]",
      "text/plain": [
       "<Figure size 720x576 with 4 Axes>"
      ]
     },
     "metadata": {},
     "output_type": "display_data"
    }
   ],
   "source": [
    "#master plot\n",
    "plt.suptitle('Availability for Customers and Subscribers')\n",
    "#first heatmap\n",
    "plt.subplot(2, 1, 1)\n",
    "customer = df_all.query('user_type == \"Customer\"')\n",
    "first_counts = customer.groupby(['Day', 'start_day']).size()\n",
    "first_counts = first_counts.reset_index(name='count')\n",
    "first_counts = first_counts.pivot(index='Day', columns='start_day', values='count')\n",
    "sns.heatmap(first_counts, cmap='rocket_r');\n",
    "plt.title('Customer', loc='right');\n",
    "plt.xlabel('Hour');\n",
    "plt.ylabel('Day');\n",
    "#second heatmapb\n",
    "plt.subplot(2, 1, 2)\n",
    "subscribers = df_all.query('user_type == \"Subscriber\"')\n",
    "second_counts = subscribers.groupby(['Day', 'start_day']).size()\n",
    "second_counts = second_counts.reset_index(name='count')\n",
    "second_counts = second_counts.pivot(index='Day', columns='start_day', values='count')\n",
    "sns.heatmap(second_counts, cmap='rocket_r');\n",
    "plt.title('Subscriber', loc='right');\n",
    "plt.xlabel('Hour');\n",
    "plt.ylabel('Day');\n",
    "\n"
   ]
  },
  {
   "cell_type": "markdown",
   "id": "4700abc9",
   "metadata": {},
   "source": [
    "For the customer vs subscriber activity per hour in each day of the week there is quite a noticable difference in both user types patterns. most noticable in the days is that subscribers are way less active during weekends while customers are most active in the weekends.the active hours during the normal days are usually in the early morning or between 4 pm to 7 pm while in weekends its during the mid day."
   ]
  },
  {
   "cell_type": "markdown",
   "id": "9efdefde",
   "metadata": {},
   "source": [
    "### Talk about some of the relationships you observed in this part of the investigation. Were there features that strengthened each other in terms of looking at your feature(s) of interest?\n",
    "\n",
    "> the first two plots showed how females tend to spend more time on thier bike rides in contrast to males by comparing the bike ride duration of each hour of the day and each day as a whole when it comes to both genders.\n",
    "\n",
    "### Were there any interesting or surprising interactions between features?\n",
    "\n",
    "> the biggest surprise was seeing how subscribers uses thier bikes during the normal weekdays while customers use it during the weekend mostly. it also reflects how subscribers tend to be more older than the regular customer as shown in the bivariate part which explains why younger poeple might prefer to ride thier bikes during weekends for the most part. "
   ]
  },
  {
   "cell_type": "markdown",
   "id": "8fb4665b",
   "metadata": {},
   "source": [
    "> At the end of your report, make sure that you export the notebook as an\n",
    "html file from the `File > Download as... > HTML` menu. Make sure you keep\n",
    "track of where the exported file goes, so you can put it in the same folder\n",
    "as this notebook for project submission. Also, make sure you remove all of\n",
    "the quote-formatted guide notes like this one before you finish your report!"
   ]
  }
 ],
 "metadata": {
  "kernelspec": {
   "display_name": "Python 3",
   "language": "python",
   "name": "python3"
  },
  "language_info": {
   "codemirror_mode": {
    "name": "ipython",
    "version": 3
   },
   "file_extension": ".py",
   "mimetype": "text/x-python",
   "name": "python",
   "nbconvert_exporter": "python",
   "pygments_lexer": "ipython3",
   "version": "3.8.8"
  }
 },
 "nbformat": 4,
 "nbformat_minor": 5
}
